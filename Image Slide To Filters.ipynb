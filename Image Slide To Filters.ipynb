{
 "cells": [
  {
   "cell_type": "code",
   "execution_count": null,
   "metadata": {},
   "outputs": [],
   "source": [
    "#see temp"
   ]
  },
  {
   "cell_type": "code",
   "execution_count": 1,
   "metadata": {},
   "outputs": [],
   "source": [
    "import cv2"
   ]
  },
  {
   "cell_type": "code",
   "execution_count": 2,
   "metadata": {},
   "outputs": [],
   "source": [
    "import numpy as np\n",
    "\n",
    "def show(img):\n",
    "    cv2.imshow('title', img)\n",
    "    cv2.waitKey(0)\n",
    "    cv2.destroyAllWindows()\n",
    "\n",
    "#to read\n",
    "orig = cv2.imread('C:/Users/PC/Codes/mosaic.jpg')\n",
    "orig = cv2.resize(orig, (500, 500))\n",
    "image = orig.copy()"
   ]
  },
  {
   "cell_type": "code",
   "execution_count": 22,
   "metadata": {},
   "outputs": [],
   "source": [
    "#dist btw two parallel lines d = |c1–c2|/√(1+m^2).\n",
    "class ControlLine:\n",
    "    \n",
    "    def __init__(self, m, c, speed=1):\n",
    "        self.speed = speed\n",
    "        self.m = m\n",
    "        self.c = c\n",
    "    \n",
    "    def update_c(self):   \n",
    "        #updates c, so that more close to corner point, speed proprotional to slope\n",
    "        #dist btw two parallel lines d = |c1–c2|/√(1+m^2)\n",
    "        \n",
    "        self.c = self.speed * np.sqrt(1 + self.m**2) + self.c\n",
    "        return self.c"
   ]
  },
  {
   "cell_type": "code",
   "execution_count": 29,
   "metadata": {},
   "outputs": [],
   "source": [
    "def apply_filter(filtr, back, mask): \n",
    "    #filter, background, mask(roi for filter)\n",
    "    r1 = cv2.bitwise_and(filtr, filtr, mask=mask) #roi to apply filter\n",
    "    mask_inv = cv2.bitwise_not(mask)\n",
    "    r2 = cv2.bitwise_and(back, back, mask=mask_inv) #no filter\n",
    "    result = cv2.addWeighted(r1, 1, r2, 1, 0)\n",
    "    return result"
   ]
  },
  {
   "cell_type": "code",
   "execution_count": 32,
   "metadata": {},
   "outputs": [],
   "source": [
    "\n",
    "def move_line(image, m):\n",
    "    orig = image.copy()\n",
    "    gray = cv2.cvtColor(image, cv2.COLOR_BGR2GRAY)\n",
    "    gray = cv2.cvtColor(gray, cv2.COLOR_GRAY2BGR)\n",
    "    result = orig #image, which is modified, on which filter is applied\n",
    "    base = np.zeros(orig.shape, np.uint8) #on this the white line is drawn\n",
    "    threshold = np.array((255, 255, 255))\n",
    "    x, y, _ = base.shape\n",
    "    m = -abs(m) #to keep it negative\n",
    "    if m==0:\n",
    "        m = 1e-4\n",
    "    last_c = int(y - m*x)\n",
    "    assert base.shape == orig.shape == gray.shape\n",
    "    \n",
    "    controller = ControlLine(m, 0, 2)\n",
    "    c =  controller.update_c()\n",
    "    while controller.update_c() < (last_c):\n",
    "        c =  controller.update_c()\n",
    "        img = base.copy() #so that only line portion is modified, not whole again, thus wasting\n",
    "        y1 = int(m*0 + c)\n",
    "        x1 = int(-c / m)\n",
    "        cv2.line(img, (x1, 0), (0, y1), (255, 255, 255), 10)\n",
    "      \n",
    "        mask = cv2.inRange(img, threshold, threshold)\n",
    "        result = apply_filter(gray, result, mask)\n",
    "        cv2.imshow('t', result)\n",
    "        if cv2.waitKey(1) & 0xFF == ord('q'):\n",
    "            break\n",
    "    cv2.destroyAllWindows()\n",
    "    \n",
    "\n",
    "# move_line(image, -0.5)\n",
    "# t = np.zeros((512,512,3), np.uint8)\n",
    "# move_line(t, -0)"
   ]
  },
  {
   "cell_type": "code",
   "execution_count": 35,
   "metadata": {},
   "outputs": [],
   "source": [
    "#to draw lines\n",
    "\n",
    "pts = {}\n",
    "line_drawn = False\n",
    "\n",
    "def slope(pts):\n",
    "    (x1, y1), (x2, y2) = pts.values()\n",
    "    if x1 == x2:\n",
    "        x2 += 0.01\n",
    "    return (y2 - y1) / (x2 - x1)\n",
    "\n",
    "def click_and_crop(event, x, y, flags, param):\n",
    "    global pts, line_drawn\n",
    "    \n",
    "    if event == cv2.EVENT_LBUTTONDOWN:\n",
    "        pts['start'] = (x, y)\n",
    "        \n",
    "    elif event == cv2.EVENT_LBUTTONUP:\n",
    "        line_drawn = True\n",
    "        pts['end'] = (x, y)\n",
    "        cv2.line(image, pts['start'], pts['end'], (0, 255, 0), 2)\n",
    "        cv2.imshow(\"image\", image)\n",
    "\n",
    "clone = orig.copy()\n",
    "image = clone.copy()\n",
    "cv2.namedWindow(\"image\")\n",
    "cv2.setMouseCallback(\"image\", click_and_crop) #To process the mouse click events we define the \n",
    "# click_and_crop  callback function on Line 10. Anytime a mouse event happens, OpenCV will relay the \n",
    "# pertinent details to our click_and_crop  function.\n",
    "\n",
    "# keep looping until the 'q' key is pressed\n",
    "while not line_drawn:\n",
    "    # display the image and wait for a keypress\n",
    "    cv2.imshow(\"image\", image)\n",
    "    key = cv2.waitKey(1)\n",
    "    \n",
    "cv2.destroyAllWindows()\n",
    "move_line(image, slope(pts))\n",
    "cv2.destroyAllWindows()"
   ]
  },
  {
   "cell_type": "code",
   "execution_count": null,
   "metadata": {},
   "outputs": [],
   "source": [
    "slope(pts)"
   ]
  },
  {
   "cell_type": "code",
   "execution_count": null,
   "metadata": {},
   "outputs": [],
   "source": []
  },
  {
   "cell_type": "code",
   "execution_count": null,
   "metadata": {},
   "outputs": [],
   "source": []
  },
  {
   "cell_type": "code",
   "execution_count": null,
   "metadata": {},
   "outputs": [],
   "source": []
  },
  {
   "cell_type": "code",
   "execution_count": null,
   "metadata": {},
   "outputs": [],
   "source": []
  },
  {
   "cell_type": "code",
   "execution_count": null,
   "metadata": {},
   "outputs": [],
   "source": [
    "pts.values()"
   ]
  },
  {
   "cell_type": "code",
   "execution_count": null,
   "metadata": {},
   "outputs": [],
   "source": []
  },
  {
   "cell_type": "code",
   "execution_count": null,
   "metadata": {},
   "outputs": [],
   "source": [
    "gray = cv2.cvtColor(image, cv2.COLOR_BGR2GRAY)\n",
    "show(gray)"
   ]
  },
  {
   "cell_type": "code",
   "execution_count": null,
   "metadata": {},
   "outputs": [],
   "source": []
  },
  {
   "cell_type": "code",
   "execution_count": null,
   "metadata": {},
   "outputs": [],
   "source": [
    "gray3 = cv2.cvtColor(gray, cv2.COLOR_GRAY2BGR)\n",
    "show(gray3)"
   ]
  },
  {
   "cell_type": "code",
   "execution_count": null,
   "metadata": {},
   "outputs": [],
   "source": [
    "gray3.shape"
   ]
  },
  {
   "cell_type": "code",
   "execution_count": null,
   "metadata": {},
   "outputs": [],
   "source": [
    "#to show and color portion of image\n",
    "\n",
    "zeros = np.zeros(img.shape[:2], dtype='uint8')\n",
    "colors = ['b', 'g', 'r']\n",
    "clridx = colors.index(input(\"Choose any color Blue('b') Green('g') Red('r')\").lower())\n",
    "clrimg = [zeros, zeros, zeros]\n",
    "clrimg[clridx] = cv2.split(image)[clridx] \n",
    "show(cv2.merge(clrimg))"
   ]
  },
  {
   "cell_type": "code",
   "execution_count": null,
   "metadata": {},
   "outputs": [],
   "source": [
    "cc = np.ones(img.shape[:2], dtype='uint8') * 255\n",
    "pts = np.array([[10,5],[20,30],[70,20],[50,10]], np.int32)\n",
    "pts = pts.reshape((-1,1,2))\n",
    "cv2.polylines(cc,[pts],True,(0,0,0), 50)\n",
    "show(cc)"
   ]
  },
  {
   "cell_type": "code",
   "execution_count": null,
   "metadata": {},
   "outputs": [],
   "source": [
    "t = np.zeros((512,512,3), np.uint8)\n",
    "\n",
    "cv2.line(t,(0,100),(100, 0),(255,255,0),10)\n",
    "show(t)"
   ]
  },
  {
   "cell_type": "code",
   "execution_count": null,
   "metadata": {},
   "outputs": [],
   "source": [
    "def calc_slope(pts1, pts2):\n",
    "    (x1, y1), (x2, y2) = pts1, pts2\n",
    "    return (y2 - y1) / (x2 - x1)"
   ]
  },
  {
   "cell_type": "code",
   "execution_count": null,
   "metadata": {},
   "outputs": [],
   "source": [
    "import cv2\n",
    "import numpy as np\n",
    "\n",
    "def move_line(img, m):\n",
    "    x, y, _ = img.shape\n",
    "    last_c = int(y - m*x)\n",
    "    arr = np.array((255, 255, 255))\n",
    "    for c in range(last_c):\n",
    "        y1 = int(m*0 + c)\n",
    "        x1 = int(-c / m)\n",
    "        cv2.line(img, (x1, 0), (0, y1), (255, 255, 255), 10)\n",
    "        \n",
    "        mask = cv2.inRange(img, arr, arr)\n",
    "        m1 = cv2.bitwise_and(image, image, mask=cv2.bitwise_not(mask))\n",
    "        m2 = cv2.bitwise_and(gray, gray, mask=(mask))\n",
    "        result = cv2.addWeighted(m1, 1, m2, 1, 0)\n",
    "        cv2.imshow('t', result)\n",
    "        cv2.waitKey(1)\n",
    "    cv2.destroyAllWindows()\n",
    "    \n",
    "t = np.zeros((512,512,3), np.uint8)\n",
    "# image = cv2.resize(image, (512, 512))\n",
    "# gray = cv2.cvtColor(gray, cv2.COLOR_GRAY2BGR)\n",
    "move_line(t, -0.5)\n"
   ]
  },
  {
   "cell_type": "code",
   "execution_count": null,
   "metadata": {},
   "outputs": [],
   "source": [
    "gray.shape"
   ]
  },
  {
   "cell_type": "code",
   "execution_count": null,
   "metadata": {},
   "outputs": [],
   "source": [
    "show(image)"
   ]
  },
  {
   "cell_type": "code",
   "execution_count": null,
   "metadata": {},
   "outputs": [],
   "source": [
    "#to draw lines\n",
    "\n",
    "pts = {}\n",
    "line_drawn = False\n",
    "\n",
    "def click_and_crop(event, x, y, flags, param):\n",
    "    global pts, line_drawn\n",
    "    \n",
    "    if event == cv2.EVENT_LBUTTONDOWN:\n",
    "        pts['start'] = (x, y)\n",
    "        \n",
    "    elif event == cv2.EVENT_LBUTTONUP:\n",
    "        line_drawn = True\n",
    "        pts['end'] = (x, y)\n",
    "        cv2.line(image, pts['start'], pts['end'], (0, 255, 0), 2)\n",
    "        cv2.imshow(\"image\", image)\n",
    "\n",
    "clone = orig.copy()\n",
    "image = clone.copy()\n",
    "cv2.namedWindow(\"image\")\n",
    "cv2.setMouseCallback(\"image\", click_and_crop) #To process the mouse click events we define the \n",
    "# click_and_crop  callback function on Line 10. Anytime a mouse event happens, OpenCV will relay the \n",
    "# pertinent details to our click_and_crop  function.\n",
    "\n",
    "# keep looping until the 'q' key is pressed\n",
    "while not line_drawn:\n",
    "    # display the image and wait for a keypress\n",
    "    cv2.imshow(\"image\", image)\n",
    "    key = cv2.waitKey(1)\n",
    "    \n",
    "\n",
    "        \n",
    "cv2.destroyAllWindows()"
   ]
  },
  {
   "cell_type": "code",
   "execution_count": null,
   "metadata": {},
   "outputs": [],
   "source": [
    "def calc_slope(pts1, pts2):\n",
    "    (x1, y1), (x2, y2) = pts1, pts2\n",
    "    return (y2 - y1) / (x2 - x1)"
   ]
  },
  {
   "cell_type": "code",
   "execution_count": null,
   "metadata": {},
   "outputs": [],
   "source": []
  }
 ],
 "metadata": {
  "kernelspec": {
   "display_name": "Python 3",
   "language": "python",
   "name": "python3"
  },
  "language_info": {
   "codemirror_mode": {
    "name": "ipython",
    "version": 3
   },
   "file_extension": ".py",
   "mimetype": "text/x-python",
   "name": "python",
   "nbconvert_exporter": "python",
   "pygments_lexer": "ipython3",
   "version": "3.7.5"
  }
 },
 "nbformat": 4,
 "nbformat_minor": 2
}
