{
 "cells": [
  {
   "cell_type": "code",
   "execution_count": null,
   "metadata": {},
   "outputs": [],
   "source": [
    "import cv2\n",
    "import numpy as np"
   ]
  },
  {
   "cell_type": "code",
   "execution_count": null,
   "metadata": {},
   "outputs": [],
   "source": [
    "def show(img):\n",
    "    cv2.imshow('title', img)\n",
    "    cv2.waitKey(0)\n",
    "    cv2.destroyAllWindows()\n",
    "\n",
    "#to read\n",
    "orig = cv2.imread('C:/Users/PC/Codes/mosaic.jpg')\n",
    "orig = cv2.resize(orig, (500, 500))\n",
    "image = orig.copy()"
   ]
  },
  {
   "cell_type": "code",
   "execution_count": null,
   "metadata": {},
   "outputs": [],
   "source": [
    "gray = cv2.cvtColor(image, cv2.COLOR_BGR2GRAY)\n",
    "gray3 = cv2.cvtColor(gray, cv2.COLOR_GRAY2BGR) #means gray of 3channels depth"
   ]
  },
  {
   "cell_type": "code",
   "execution_count": null,
   "metadata": {},
   "outputs": [],
   "source": [
    "#do problem of much time when slope is 0 or infiinty by reducing parralled dist btw line and final in e\n",
    "#each step\n",
    "def move_line(img, m):\n",
    "    x, y, _ = img.shape\n",
    "    last_c = int(y - m*x)\n",
    "    for c in range(last_c):\n",
    "        y1 = int(m*0 + c)\n",
    "        x1 = int(-c / m)\n",
    "        cv2.line(img, (x1, 0), (0, y1), (255, 255, 255), 10)\n",
    "        cv2.imshow('t', img)\n",
    "        cv2.waitKey(2)\n",
    "    cv2.destroyAllWindows()\n",
    "    \n",
    "t = np.zeros((512,512,3), np.uint8)\n",
    "move_line(t, -0.5)"
   ]
  },
  {
   "cell_type": "code",
   "execution_count": null,
   "metadata": {},
   "outputs": [],
   "source": []
  },
  {
   "cell_type": "code",
   "execution_count": null,
   "metadata": {},
   "outputs": [],
   "source": [
    "#above one modified here\n",
    "#do problem of much time when slope is 0 or infiinty by reducing parralled dist btw line and final in e\n",
    "#each step\n",
    "def move_line(m):\n",
    "    orig, gray = image.copy(), gray3.copy()\n",
    "    result = orig #image, which is modified, on which filter is applied\n",
    "    base = np.zeros(orig.shape, np.uint8) #on this the white line is drawn\n",
    "    threshold = np.array((255, 255, 255))\n",
    "    x, y, _ = base.shape\n",
    "    last_c = int(y - m*x)\n",
    "    print(base.shape, orig.shape, gray.shape)\n",
    "    for c in range(last_c):\n",
    "        img = base.copy() #so that only line portion is modified, not whole again, thus wasting\n",
    "        y1 = int(m*0 + c)\n",
    "        x1 = int(-c / m)\n",
    "        cv2.line(img, (x1, 0), (0, y1), (255, 255, 255), 10)\n",
    "        mask = cv2.inRange(img, threshold, threshold)\n",
    "        m1 = cv2.bitwise_and(result, result, mask=cv2.bitwise_not(mask))\n",
    "        m2 = cv2.bitwise_and(gray, gray, mask=(mask))\n",
    "        result = cv2.addWeighted(m1, 1, m2, 1, 0)\n",
    "        cv2.imshow('t', result)\n",
    "        cv2.waitKey(1)\n",
    "    cv2.destroyAllWindows()\n",
    "    \n",
    "\n",
    "move_line(-0.5)"
   ]
  },
  {
   "cell_type": "code",
   "execution_count": null,
   "metadata": {},
   "outputs": [],
   "source": [
    "#to draw lines\n",
    "\n",
    "pts = {}\n",
    "\n",
    "def click_and_crop(event, x, y, flags, param):\n",
    "    global pts\n",
    "    \n",
    "    if event == cv2.EVENT_LBUTTONDOWN:\n",
    "        pts['start'] = (x, y)\n",
    "        \n",
    "    elif event == cv2.EVENT_LBUTTONUP:\n",
    "        pts['end'] = (x, y)\n",
    "        cv2.line(image, pts['start'], pts['end'], (0, 255, 0), 2)\n",
    "        cv2.imshow(\"image\", image)\n",
    "\n",
    "clone = orig.copy()\n",
    "image = clone.copy()\n",
    "cv2.namedWindow(\"image\")\n",
    "cv2.setMouseCallback(\"image\", click_and_crop) #To process the mouse click events we define the \n",
    "# click_and_crop  callback function on Line 10. Anytime a mouse event happens, OpenCV will relay the \n",
    "# pertinent details to our click_and_crop  function.\n",
    "\n",
    "# keep looping until the 'q' key is pressed\n",
    "while True:\n",
    "    # display the image and wait for a keypress\n",
    "    cv2.imshow(\"image\", image)\n",
    "    key = cv2.waitKey(1) & 0xFF\n",
    "    # if the 'r' key is pressed, reset the cropping region\n",
    "    if key == ord(\"r\"):\n",
    "        image = clone.copy()\n",
    "    # if the 'c' key is pressed, break from the loop\n",
    "    elif key == ord(\"c\"):\n",
    "        break\n",
    "        \n",
    "cv2.destroyAllWindows()"
   ]
  },
  {
   "cell_type": "code",
   "execution_count": null,
   "metadata": {},
   "outputs": [],
   "source": []
  }
 ],
 "metadata": {
  "kernelspec": {
   "display_name": "Python 3",
   "language": "python",
   "name": "python3"
  },
  "language_info": {
   "codemirror_mode": {
    "name": "ipython",
    "version": 3
   },
   "file_extension": ".py",
   "mimetype": "text/x-python",
   "name": "python",
   "nbconvert_exporter": "python",
   "pygments_lexer": "ipython3",
   "version": "3.7.5"
  }
 },
 "nbformat": 4,
 "nbformat_minor": 2
}
